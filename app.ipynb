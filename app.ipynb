{
 "cells": [
  {
   "cell_type": "code",
   "execution_count": 1,
   "metadata": {},
   "outputs": [],
   "source": [
    "import pandas as pd\n",
    "import numpy as np\n",
    "import tensorflow-cpu as tf"
   ]
  },
  {
   "cell_type": "code",
   "execution_count": 2,
   "metadata": {},
   "outputs": [],
   "source": [
    "data = pd.read_csv('stock_codes.csv')\n",
    "stockcode_description = pd.read_csv('stock_code_to_desc.csv')\n",
    "\n",
    "Y = data['StockCode']\n",
    "\n",
    "unique_stockcodes = np.unique(Y)\n",
    "Y[0] == unique_stockcodes\n",
    "boolean_stockcodes = [StockCode == unique_stockcodes for StockCode in Y]\n",
    "\n",
    "y = boolean_stockcodes"
   ]
  },
  {
   "cell_type": "code",
   "execution_count": 3,
   "metadata": {},
   "outputs": [],
   "source": [
    "def create_batches(X, y=None, batch_size=32, valid_data=False, test_data=False):\n",
    "    if test_data:\n",
    "#         print(\"Creating test batches...\")\n",
    "        data = tf.data.Dataset.from_tensor_slices(tf.constant(X))\n",
    "        data_batch = data.batch(batch_size)\n",
    "        return data_batch\n",
    "    elif valid_data:\n",
    "#         print(\"Creating validation batches...\")\n",
    "        data = tf.data.Dataset.from_tensor_slices((tf.constant(X),\n",
    "                                                  tf.constant(y)))\n",
    "        data_batch = data.batch(batch_size)\n",
    "        return data_batch\n",
    "    else:\n",
    "#         print(\"Creating training batches...\")\n",
    "        data = tf.data.Dataset.from_tensor_slices((tf.constant(X),\n",
    "                                                 tf.constant(y)))\n",
    "        data = data.shuffle(buffer_size=len(X))\n",
    "        data_batch = data.batch(batch_size)\n",
    "        return data_batch"
   ]
  },
  {
   "cell_type": "code",
   "execution_count": 4,
   "metadata": {},
   "outputs": [],
   "source": [
    "model = tf.keras.models.load_model('best_model.h5')"
   ]
  },
  {
   "cell_type": "code",
   "execution_count": 5,
   "metadata": {},
   "outputs": [],
   "source": [
    "def get_pred_stockcode(prediction_matrix):\n",
    "    return unique_stockcodes[np.argmax(prediction_matrix)]"
   ]
  },
  {
   "cell_type": "code",
   "execution_count": 6,
   "metadata": {},
   "outputs": [],
   "source": [
    "def getKey(item):\n",
    "    return item[0]"
   ]
  },
  {
   "cell_type": "code",
   "execution_count": 72,
   "metadata": {},
   "outputs": [],
   "source": [
    "def prediction_dataframe(prob_matrix, top_five=True):\n",
    "    prob_matrix = prob_matrix[0]\n",
    "    matrix = np.array((prob_matrix, unique_stockcodes))\n",
    "    matrix = matrix.T\n",
    "    testing = tuple(map(tuple, matrix))\n",
    "    if top_five:\n",
    "        testing_2 = sorted(testing, key=getKey, reverse = True)\n",
    "    else:\n",
    "        testing_2 = sorted(testing, key=getKey, reverse = False)\n",
    "    testing_3 = testing_2[:5]\n",
    "    data = pd.DataFrame(testing_3, columns=['Prediction','Item Code'])\n",
    "    data2 = data['Item Code']\n",
    "    nparray = [[0,0]]\n",
    "    for x in range(5):\n",
    "        guess_frame = stockcode_description[stockcode_description['StockCode'].str.contains(str(data2[x]))].values\n",
    "        nparray = np.append(nparray,(guess_frame[0][0],guess_frame[0][1]))\n",
    "    testing_4 = nparray[2:]\n",
    "    data2 = np.reshape(testing_4,(5,2))\n",
    "    data2 = pd.DataFrame(data2, columns=['Item Code', 'Description'])\n",
    "    newest = pd.concat([data,data2[['Description']]], axis=1, join=\"inner\")\n",
    "    return newest"
   ]
  },
  {
   "cell_type": "code",
   "execution_count": 73,
   "metadata": {},
   "outputs": [],
   "source": [
    "def output_guess(rain,mean_temp,min_temp,max_temp):\n",
    "    test_me_data = [[rain,mean_temp,min_temp,max_temp]]\n",
    "    test_me_data = np.c_[test_me_data[:]]\n",
    "    \n",
    "    test_me_data = create_batches(test_me_data, test_data=True)\n",
    "    attempt = model.predict(test_me_data, verbose=0)\n",
    "    guess = get_pred_stockcode(attempt[0])\n",
    "    guess = str(guess)\n",
    "    \n",
    "    stockcode_description = pd.read_csv('stock_code_to_desc.csv')\n",
    "    \n",
    "    guess_frame = stockcode_description[stockcode_description['StockCode'].str.contains(str(guess))]\n",
    "    \n",
    "    guess_numpy = guess_frame.to_numpy()\n",
    "    stock, desc = guess_numpy[0][0],guess_numpy[0][1]\n",
    "    print(\"Top Five Items\")\n",
    "    print(prediction_dataframe(attempt, top_five = True))\n",
    "    print(\"Bottom Five Items\")\n",
    "    print(prediction_dataframe(attempt, top_five = False))\n",
    "    return stock, desc, attempt"
   ]
  },
  {
   "cell_type": "code",
   "execution_count": 74,
   "metadata": {},
   "outputs": [
    {
     "name": "stdout",
     "output_type": "stream",
     "text": [
      "Top Five Items\n",
      "   Prediction Item Code                         Description\n",
      "0    0.003156     22827  RUSTIC  SEVENTEEN DRAWER SIDEBOARD\n",
      "1    0.001808     85161              ACRYLIC GEOMETRIC LAMP\n",
      "2    0.001740     22833         HALL CABINET WITH 3 DRAWERS\n",
      "3    0.001603     21316      SMALL CHUNKY GLASS ROMAN  BOWL\n",
      "4    0.001589    90214K           LETTER \"K\" BLING KEY RING\n",
      "Bottom Five Items\n",
      "   Prediction Item Code                        Description\n",
      "0    0.000055     21785                       RAIN PONCHO \n",
      "1    0.000104     22632          HAND WARMER RED POLKA DOT\n",
      "2    0.000113    90178A   AMBER CHUNKY GLASS+BEAD NECKLACE\n",
      "3    0.000117     20878  SET/9 CHRISTMAS T-LIGHTS SCENTED \n",
      "4    0.000130     23191   BUNDLE OF 3 RETRO EXERCISE BOOKS\n",
      "The model predicts the sales of Stock Code: 22827 which is product: RUSTIC  SEVENTEEN DRAWER SIDEBOARD\n"
     ]
    }
   ],
   "source": [
    "stock, desc, attempt = output_guess(11,70,20,120)\n",
    "print(\"The model predicts the sales of Stock Code: \" + stock + \" which is product: \" + desc)"
   ]
  },
  {
   "cell_type": "code",
   "execution_count": 75,
   "metadata": {},
   "outputs": [
    {
     "data": {
      "text/html": [
       "<div>\n",
       "<style scoped>\n",
       "    .dataframe tbody tr th:only-of-type {\n",
       "        vertical-align: middle;\n",
       "    }\n",
       "\n",
       "    .dataframe tbody tr th {\n",
       "        vertical-align: top;\n",
       "    }\n",
       "\n",
       "    .dataframe thead th {\n",
       "        text-align: right;\n",
       "    }\n",
       "</style>\n",
       "<table border=\"1\" class=\"dataframe\">\n",
       "  <thead>\n",
       "    <tr style=\"text-align: right;\">\n",
       "      <th></th>\n",
       "      <th>Prediction</th>\n",
       "      <th>Item Code</th>\n",
       "      <th>Description</th>\n",
       "    </tr>\n",
       "  </thead>\n",
       "  <tbody>\n",
       "    <tr>\n",
       "      <th>0</th>\n",
       "      <td>0.003156</td>\n",
       "      <td>22827</td>\n",
       "      <td>RUSTIC  SEVENTEEN DRAWER SIDEBOARD</td>\n",
       "    </tr>\n",
       "    <tr>\n",
       "      <th>1</th>\n",
       "      <td>0.001808</td>\n",
       "      <td>85161</td>\n",
       "      <td>ACRYLIC GEOMETRIC LAMP</td>\n",
       "    </tr>\n",
       "    <tr>\n",
       "      <th>2</th>\n",
       "      <td>0.001740</td>\n",
       "      <td>22833</td>\n",
       "      <td>HALL CABINET WITH 3 DRAWERS</td>\n",
       "    </tr>\n",
       "    <tr>\n",
       "      <th>3</th>\n",
       "      <td>0.001603</td>\n",
       "      <td>21316</td>\n",
       "      <td>SMALL CHUNKY GLASS ROMAN  BOWL</td>\n",
       "    </tr>\n",
       "    <tr>\n",
       "      <th>4</th>\n",
       "      <td>0.001589</td>\n",
       "      <td>90214K</td>\n",
       "      <td>LETTER \"K\" BLING KEY RING</td>\n",
       "    </tr>\n",
       "  </tbody>\n",
       "</table>\n",
       "</div>"
      ],
      "text/plain": [
       "   Prediction Item Code                         Description\n",
       "0    0.003156     22827  RUSTIC  SEVENTEEN DRAWER SIDEBOARD\n",
       "1    0.001808     85161              ACRYLIC GEOMETRIC LAMP\n",
       "2    0.001740     22833         HALL CABINET WITH 3 DRAWERS\n",
       "3    0.001603     21316      SMALL CHUNKY GLASS ROMAN  BOWL\n",
       "4    0.001589    90214K           LETTER \"K\" BLING KEY RING"
      ]
     },
     "execution_count": 75,
     "metadata": {},
     "output_type": "execute_result"
    }
   ],
   "source": [
    "prediction_dataframe(attempt, top_five = True)"
   ]
  },
  {
   "cell_type": "code",
   "execution_count": 76,
   "metadata": {},
   "outputs": [],
   "source": [
    "from ipywidgets import interactive\n",
    "interactive_plot = interactive(output_guess, rain=(0,15.2,0.1), mean_temp=(-70,220,10.0),\n",
    "                              min_temp=(-120,160,10.0), max_temp=(-30,280,10.0))"
   ]
  },
  {
   "cell_type": "markdown",
   "metadata": {},
   "source": [
    "#### Our interactive model\n",
    "\n",
    "Finally, we have an output model that has an interactive slider system to take weather data as input and output predicted stock codes and respective description"
   ]
  },
  {
   "cell_type": "code",
   "execution_count": 77,
   "metadata": {},
   "outputs": [
    {
     "name": "stdout",
     "output_type": "stream",
     "text": [
      "\n"
     ]
    },
    {
     "data": {
      "application/vnd.jupyter.widget-view+json": {
       "model_id": "fdad2ba7942d41479c16e0961a6dc3a2",
       "version_major": 2,
       "version_minor": 0
      },
      "text/plain": [
       "interactive(children=(FloatSlider(value=7.5, description='rain', max=15.2), FloatSlider(value=70.0, descriptio…"
      ]
     },
     "metadata": {},
     "output_type": "display_data"
    }
   ],
   "source": [
    "print()\n",
    "interactive_plot"
   ]
  },
  {
   "cell_type": "markdown",
   "metadata": {},
   "source": [
    "*footnote: All temperatures are in 1/10th degrees Celcius (ie. 100 mean_temp is 10.0 degrees Celcius)"
   ]
  }
 ],
 "metadata": {
  "kernelspec": {
   "display_name": "Python 3",
   "language": "python",
   "name": "python3"
  },
  "language_info": {
   "codemirror_mode": {
    "name": "ipython",
    "version": 3
   },
   "file_extension": ".py",
   "mimetype": "text/x-python",
   "name": "python",
   "nbconvert_exporter": "python",
   "pygments_lexer": "ipython3",
   "version": "3.8.8"
  }
 },
 "nbformat": 4,
 "nbformat_minor": 4
}
